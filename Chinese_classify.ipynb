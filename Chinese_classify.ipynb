{
 "cells": [
  {
   "cell_type": "code",
   "execution_count": 1,
   "id": "1c6ded5f-adb6-4f98-af3f-c3ef80889cbc",
   "metadata": {},
   "outputs": [],
   "source": [
    "\n",
    "import os\n",
    "import numpy as np\n",
    "import struct\n",
    "from PIL import Image\n",
    "import torch\n",
    "from torch import nn\n",
    "import torch.nn.functional as F\n",
    "from torch.autograd import Variable\n",
    "from torchvision.datasets import ImageFolder\n",
    "from torch.utils.data import DataLoader\n",
    "from torchvision import transforms as tfs\n",
    "from torch.optim.lr_scheduler import LambdaLR\n",
    "import matplotlib.pyplot as plt\n",
    "import datetime;\n",
    "'''\n",
    "判断一个文件夹是否存在：\n",
    "from pathlib import Path\n",
    "dir=Path(string path)\n",
    "dir.exists()\n",
    "'''\n",
    "from pathlib import Path"
   ]
  },
  {
   "cell_type": "code",
   "execution_count": 2,
   "id": "2eb1ee0b-0f18-4d17-9e2e-5303947dae3d",
   "metadata": {},
   "outputs": [
    {
     "name": "stdout",
     "output_type": "stream",
     "text": [
      "3926\n",
      "finish train\n",
      "finish all\n"
     ]
    }
   ],
   "source": [
    "\n",
    "#下面的路径根据个人改变；\n",
    "#从网站上下载下来的三个压缩包：两个为训练集合，一个为测试集合；\n",
    "#两个训练集合解压到/root/autodl-tmp/train目录下；测试集合解压到/root/autodl-tmp/test目录下；\n",
    "#三个压缩包解压只有得到的是.gnt文件，需要转化成.png图像文件；\n",
    "#所有的用于训练的图像在/root/autodl-tmp/data/train目录下；用于测试的图像文件在/root/autodl-tmp/data/test目录下；\n",
    "#下面程序：将解压得到的.gnt文件转换成.png文件，并且将数据按照类别分别存放在不同的子目录中；\n",
    "data_dir = '/root/autodl-tmp/'\n",
    "train_data_dir = os.path.join(data_dir, 'train')\n",
    "test_data_dir = os.path.join(data_dir, 'test')\n",
    "def read_from_gnt_dir(gnt_dir=train_data_dir):\n",
    "    def one_file(f):\n",
    "        header_size = 10\n",
    "        while True:\n",
    "            header = np.fromfile(f, dtype='uint8', count=header_size)\n",
    "            if not header.size: break\n",
    "            sample_size = header[0] + (header[1]<<8) + (header[2]<<16) + (header[3]<<24)\n",
    "            tagcode = header[5] + (header[4]<<8)\n",
    "            width = header[6] + (header[7]<<8)\n",
    "            height = header[8] + (header[9]<<8)\n",
    "            if header_size + width*height != sample_size:\n",
    "                break\n",
    "            image = np.fromfile(f, dtype='uint8', count=width*height).reshape((height, width))\n",
    "            yield image, tagcode\n",
    "    for file_name in os.listdir(gnt_dir):\n",
    "        if file_name.endswith('.gnt'):\n",
    "            file_path = os.path.join(gnt_dir, file_name)\n",
    "            with open(file_path, 'rb') as f:\n",
    "                for image, tagcode in one_file(f):\n",
    "                    yield image, tagcode\n",
    "\n",
    "char_set = set()\n",
    "for _, tagcode in read_from_gnt_dir(gnt_dir=train_data_dir):\n",
    "    tagcode_unicode = struct.pack('>H', tagcode).decode('gb18030')\n",
    "    char_set.add(tagcode_unicode)\n",
    "char_list = list(char_set)\n",
    "char_dict = dict(zip(sorted(char_list), range(len(char_list))))\n",
    "print(len(char_dict))#输出类别总数；\n",
    "import pickle\n",
    "f = open('char_dict', 'wb')\n",
    "pickle.dump(char_dict, f)\n",
    "f.close()\n",
    "train_counter = 0\n",
    "test_counter = 0\n",
    "for image, tagcode in read_from_gnt_dir(gnt_dir=train_data_dir):\n",
    "    tagcode_unicode = struct.pack('>H', tagcode).decode('gb18030')\n",
    "    im = Image.fromarray(image)\n",
    "    dir_name ='/root/autodl-tmp/data/train/' + '%0.5d'%char_dict[tagcode_unicode]\n",
    "    if not os.path.exists(os.path.join(dir_name)):\n",
    "        os.mkdir(os.path.join(dir_name))\n",
    "    im.convert('RGB').save(os.path.join(dir_name)+'/' + str(train_counter) + '.png')\n",
    "    train_counter += 1\n",
    "print(\"finish train set\")\n",
    "for image, tagcode in read_from_gnt_dir(gnt_dir=test_data_dir):\n",
    "    tagcode_unicode = struct.pack('>H', tagcode).decode('gb18030')\n",
    "    im = Image.fromarray(image)\n",
    "    dir_name = '/root/autodl-tmp/data/test/' + '%0.5d'%char_dict[tagcode_unicode]\n",
    "    if not os.path.exists(os.path.join(dir_name)):\n",
    "        os.mkdir(os.path.join(dir_name))\n",
    "    im.convert('RGB').save(os.path.join(dir_name)+'/' + str(test_counter) + '.png')\n",
    "    test_counter += 1\n",
    "print(\"finish all\")"
   ]
  },
  {
   "cell_type": "code",
   "execution_count": 2,
   "id": "840ee8a3-73d3-463b-9d69-3c11cc2f728b",
   "metadata": {},
   "outputs": [],
   "source": [
    "import logging\n",
    "#生成日志文件；\n",
    "def get_logger(filename, verbosity=1, name=None):\n",
    "    level_dict = {0: logging.DEBUG, 1: logging.INFO, 2: logging.WARNING}\n",
    "    formatter = logging.Formatter(\n",
    "        \"[%(asctime)s][%(filename)s][line:%(lineno)d][%(levelname)s] %(message)s\"\n",
    "    )\n",
    "    logger = logging.getLogger(name)\n",
    "    logger.setLevel(level_dict[verbosity])\n",
    "\n",
    "    fh = logging.FileHandler(filename, \"w\")\n",
    "    fh.setFormatter(formatter)\n",
    "    logger.addHandler(fh)\n",
    "\n",
    "    sh = logging.StreamHandler()\n",
    "    sh.setFormatter(formatter)\n",
    "    logger.addHandler(sh)\n",
    "\n",
    "    return logger"
   ]
  },
  {
   "cell_type": "code",
   "execution_count": 3,
   "id": "92fcf8ab-5d8d-4369-b84f-8209aef6db93",
   "metadata": {},
   "outputs": [
    {
     "name": "stdout",
     "output_type": "stream",
     "text": [
      "年_月_日_时_分_秒： 2022_12_10_10_52_21\n"
     ]
    }
   ],
   "source": [
    "now = datetime.datetime.now() # 获得当前时间来给日志文件命名；\n",
    "timestr = now.strftime(\"%Y_%m_%d_%H_%M_%S\")\n",
    "print('年_月_日_时_分_秒：', timestr)\n",
    "dir = os.getcwd() + '/traininglog_' + timestr "
   ]
  },
  {
   "cell_type": "markdown",
   "id": "08802103-901a-4b2e-8638-cddbb148ef40",
   "metadata": {},
   "source": [
    "## 数据预处理；"
   ]
  },
  {
   "cell_type": "code",
   "execution_count": 4,
   "id": "e366609c-df71-4313-88da-3b9938e8e2ad",
   "metadata": {},
   "outputs": [],
   "source": [
    "'''\n",
    "训练和测试过程中的预处理过程是不同的：预测中不做训练过程的数据增强操作；\n",
    "数据增强的操作应该在归一化和标准化之前；\n",
    "预处理的过程：\n",
    "1.将PIL.Image转化为灰度图像\n",
    "2.调整尺寸:先通过填充将图像变成正方形，然后通过resize进行下采样或者上采样；\n",
    "3.旋转一定的角度8度内的随机旋转\n",
    "4.亮度和对比度的随机变化;\n",
    "5.归一化；\n",
    "6.标准化和中心化\n",
    "返回的是张量\n",
    "'''\n",
    "def train_preprocess(x):\n",
    "    x=x.convert('L')\n",
    "    '''\n",
    "    这里的x是PIL.Image形式的数据，没有shape数据成员，但是访问图像的尺寸可以使用size数据成员\n",
    "    size的形式是(宽度，高度)\n",
    "    即使读取到的是三通道的图像，size中不会有通道数；\n",
    "    将PIL.image转化为numpy或者tensor类型的数据，图像的高度一般都在图像的宽度的前面；\n",
    "        eg:彩色图像的numpy矩阵的尺寸：(高度，宽度，通道数)\n",
    "    '''\n",
    "    padding=();#当padding表示四元组的时候，四个元素依次表示左，上，右，下的边框的填充;\n",
    "    if x.size[0]>x.size[1]:#对高度进行填充：\n",
    "        temp=int((x.size[0]-x.size[1])/2)\n",
    "        padding=(0,temp,0,x.size[0]-x.size[1]-temp)\n",
    "    elif x.size[0]<x.size[1]:#对宽度进行填充；\n",
    "        temp=int((x.size[1]-x.size[0])/2)\n",
    "        padding=(temp,0,x.size[1]-x.size[0]-temp,0)\n",
    "    if x.size[0]!=x.size[1]:#当输入图像的宽度和高度相等的时候，不进行填充；\n",
    "        x=tfs.Pad(padding,fill=255,padding_mode='constant')(x);\n",
    "    function=tfs.Compose([\n",
    "        tfs.Resize(64),\n",
    "        tfs.RandomRotation(8),#数据增强；\n",
    "        tfs.ColorJitter(brightness=0.5,contrast=0.5),#数据增强；\n",
    "        tfs.ToTensor(),\n",
    "        tfs.Normalize(0.5,0.5)\n",
    "    ])\n",
    "    x=function(x)\n",
    "    return x\n",
    "def test_preprocess(x):#对测试数据的预处理中不进行数据增强；\n",
    "    x=x.convert('L')\n",
    "    padding=();\n",
    "    if x.size[0]>x.size[1]:\n",
    "        temp=int((x.size[0]-x.size[1])/2)\n",
    "        padding=(0,temp,0,x.size[0]-x.size[1]-temp)\n",
    "    elif x.size[0]<x.size[1]:\n",
    "        temp=int((x.size[1]-x.size[0])/2)\n",
    "        padding=(temp,0,x.size[1]-x.size[0]-temp,0)\n",
    "    if x.size[0]!=x.size[1]:\n",
    "        x=tfs.Pad(padding,fill=255,padding_mode='constant')(x);\n",
    "    function=tfs.Compose([\n",
    "        tfs.Resize(64),\n",
    "        tfs.ToTensor(),\n",
    "        tfs.Normalize(0.5,0.5)\n",
    "    ])\n",
    "    x=function(x)\n",
    "    return x\n",
    "#使用ImgaeFolder来获得数据集合；\n",
    "train_set=ImageFolder(\"/root/autodl-tmp/data/train/\",transform=train_preprocess)\n",
    "test_set=ImageFolder(\"/root/autodl-tmp/data/test/\",transform=test_preprocess)\n",
    "#使用dataloader实现分批获取数据；\n",
    "train_data=DataLoader(train_set,batch_size=64,shuffle=True)#训练数据通常需要打乱,测试数据通常不用；\n",
    "test_data=DataLoader(test_set,batch_size=128,shuffle=False)"
   ]
  },
  {
   "cell_type": "markdown",
   "id": "7588fd65-2e61-43a8-b052-2d844f908049",
   "metadata": {},
   "source": [
    "## 构建模型"
   ]
  },
  {
   "cell_type": "code",
   "execution_count": 12,
   "id": "09649d99-4ab5-4235-9959-4ffc297e41b6",
   "metadata": {},
   "outputs": [
    {
     "name": "stdout",
     "output_type": "stream",
     "text": [
      "torch.Size([2, 4096])\n",
      "torch.Size([2, 3926])\n"
     ]
    }
   ],
   "source": [
    "\n",
    "def conv3x3(in_channel,out_channel,stride=1):#自定义的卷积模块，注意残差模块中的卷积层一般不适用偏置参数;\n",
    "    return nn.Conv2d(in_channel,out_channel,3,stride=stride,padding=1,bias=False);\n",
    "class resnet_block(nn.Module):#自定义的小的残差模块；\n",
    "    def __init__(self,in_channel,out_channel,same_shape=True):\n",
    "    #same_shape==True：表示这个模块输入和输出的尺寸是相同的，如果是False,表示输出的宽度和高度是输入的一半；\n",
    "        super(resnet_block,self).__init__();\n",
    "        self.Same_shape=same_shape;\n",
    "        stride =1 if self.Same_shape else 2;\n",
    "        self.conv1=conv3x3(in_channel,out_channel,stride=stride);\n",
    "        self.bn1=nn.BatchNorm2d(out_channel)\n",
    "        self.conv2=conv3x3(out_channel,out_channel);\n",
    "        self.bn2=nn.BatchNorm2d(out_channel)\n",
    "        if not self.Same_shape:\n",
    "            self.conv3=nn.Conv2d(in_channel,out_channel,1,stride=stride);\n",
    "    def forward(self,x):\n",
    "        out=self.conv1(x)\n",
    "        out=F.relu6(self.bn1(out),True);\n",
    "        out=self.conv2(out);\n",
    "        out=F.relu6(self.bn2(out),True);\n",
    "        if not self.Same_shape:\n",
    "            x=self.conv3(x)\n",
    "        return F.relu6(x+out,True);\n",
    "\n",
    "class Resnet(nn.Module):\n",
    "    def __init__(self,in_channel,num_classes,show=False):#总共有3926个类；\n",
    "        super(Resnet,self).__init__()\n",
    "        self.show=show;\n",
    "        self.block1=nn.Sequential(#第一个部分：借鉴了VGG的网路结构；\n",
    "            nn.Conv2d(in_channel,128,3,1,1),\n",
    "            nn.BatchNorm2d(128),\n",
    "            nn.ReLU6(True),\n",
    "            nn.Conv2d(128,128,3,1,1),\n",
    "            nn.BatchNorm2d(128),\n",
    "            nn.ReLU6(True),\n",
    "            nn.MaxPool2d(2,2),#(batch_size,128,32,32);\n",
    "            nn.Conv2d(128,256,3,1,1),\n",
    "            nn.BatchNorm2d(256),\n",
    "            nn.ReLU6(True),\n",
    "            nn.Conv2d(256,256,3,1,1),\n",
    "            nn.BatchNorm2d(256),\n",
    "            nn.ReLU6(True),\n",
    "            nn.MaxPool2d(2,2),#此时图像的尺寸：(batch_size,256,16,16);\n",
    "        )\n",
    "        self.block2=nn.Sequential(#第二部分:使用残差网络进行堆叠；\n",
    "            resnet_block(256,512,False),\n",
    "            #resnet_block(512,512),#(512,8,8)设计的过程不要多层输出的channel保持不变,可能效果不好；！！！！\n",
    "            resnet_block(512,1024,False),#(batch_size,1024,4,4)\n",
    "            #resnet_block(1024,1024),\n",
    "            nn.AvgPool2d(2)#(batch_size,1024,2,2）\n",
    "        )\n",
    "        self.FC_block=nn.Sequential(#第三部分：全连接层；\n",
    "            nn.Dropout(0.5),#防止过拟合；\n",
    "            nn.Linear(4096,3926)\n",
    "        )\n",
    "    def forward(self,x):\n",
    "        out=self.block1(x)\n",
    "        out=self.block2(out)\n",
    "        out=out.view(out.shape[0],-1)\n",
    "        if self.show:\n",
    "            print(out.shape)\n",
    "        out=self.FC_block(out)\n",
    "        return out;\n",
    "    \n",
    "#测试网络模型是否能够正常处理输入数据；\n",
    "test_net=Resnet(1,3926,True)\n",
    "test_input=Variable(torch.zeros(2,1,64,64))#输入的数据的batch_size必须大于1，否则在网络模型的batchnormlize层会报错；\n",
    "test_output=test_net(test_input)\n",
    "print(test_output.shape)"
   ]
  },
  {
   "cell_type": "code",
   "execution_count": 13,
   "id": "c7b8c7b5-96de-442f-a767-065d2effebeb",
   "metadata": {},
   "outputs": [],
   "source": [
    "#参数的初始化；\n",
    "def weight_init(m):\n",
    "    #print(m.__class__.__name__)\n",
    "    if m.__class__.__name__.find(\"Conv\")!=-1:#使用高斯分布来对卷积层的参数进行初始化；\n",
    "        if m.bias!=None:\n",
    "            m.bias.data.fill_(0.0)\n",
    "        nn.init.normal_(m.weight.data,0.0,0.03)\n",
    "    elif m.__class__.__name__.find(\"BatchNorm\")!=-1:#batchnormlize层中也有权重参数；\n",
    "        nn.init.normal_(m.weight.data,1.0,0.02)\n",
    "        m.bias.data.fill_(0.0)\n",
    "#使用学习率递减的优化器\n",
    "net=Resnet(1,3926,False).cuda().apply(weight_init)\n",
    "optimer=torch.optim.Adam(net.parameters(),lr=0.0001,weight_decay=1e-4)#weight_decay为防止过拟合；\n",
    "#网络结构和学习率对学习结果的影响大于weight_decay等其他参数对结果的影响;\n",
    "scheduler=LambdaLR(optimer,lr_lambda=lambda epoch: 1.0/(epoch+1))#使得训练过程中的学习率逐渐降低；\n",
    "loss_function=nn.CrossEntropyLoss()#损失函数；"
   ]
  },
  {
   "cell_type": "markdown",
   "id": "f2bb5811-2d38-4b21-9fe2-0f16a0c0b13f",
   "metadata": {},
   "source": [
    "## 进行训练："
   ]
  },
  {
   "cell_type": "code",
   "execution_count": 16,
   "id": "15c973dc-7776-48de-ba29-5a96079671ea",
   "metadata": {},
   "outputs": [],
   "source": [
    "def train(net,train_data,test_data,iter_num,optimer,scheduler,lossfunction,is_request_accuracy=0):\n",
    "'''\n",
    "    net为网络模型；\n",
    "    train_data和test_data分别为训练和测试的数据；\n",
    "    iter_num:为设置的总训练轮数；\n",
    "    optimer：为优化器\n",
    "    scheduler:对优化器的学习率进行调整的对象\n",
    "    lossfunction:是损失函数；\n",
    "    is_request_accuracy:是否输出训练过程的信息，为0的时候输出；\n",
    "'''\n",
    "    losses=[]\n",
    "    acces=[]\n",
    "    eval_losses=[]\n",
    "    eval_acces=[]#这四个列表是用来存储每一轮训练的过程中的参数，以便后面使用这些参数来绘制图像；\n",
    "    logger = get_logger(dir)\n",
    "    logger.info('start training!')\n",
    "    temp=0;\n",
    "    for epoch in range(iter_num):\n",
    "        train_loss=0\n",
    "        train_acc=0;\n",
    "        #训练：\n",
    "        net.train()\n",
    "        for im,label in train_data:\n",
    "            im=Variable(im).cuda();\n",
    "            label=Variable(label).cuda()\n",
    "            out=net(im);\n",
    "            loss=lossfunction(out,label)\n",
    "            optimer.zero_grad()\n",
    "            loss.backward()\n",
    "            optimer.step()\n",
    "            train_loss+=loss.data;\n",
    "            #计算准确率：每个批中的准确率，正确预测的数目除以该批次中样本的总数；\n",
    "            prediction=out.max(1)[1]\n",
    "            num_correct=(prediction==label).sum().data\n",
    "            train_acc+=num_correct/im.shape[0];\n",
    "        losses.append((train_loss/len(train_data)).data.cpu().numpy())\n",
    "        acces.append((train_acc/len(train_data)).data.cpu().numpy())\n",
    "        eval_loss=0;\n",
    "        eval_acc=0;\n",
    "        #测试；\n",
    "        net.eval()\n",
    "        for im,label in test_data:\n",
    "            im=Variable(im).cuda()\n",
    "            label=Variable(label).cuda()\n",
    "            out=net(im)\n",
    "            loss=lossfunction(out,label)\n",
    "            eval_loss+=loss.data;\n",
    "            prediction=out.max(1)[1];\n",
    "            num_correct=(prediction==label).sum().data\n",
    "            eval_acc+=num_correct/im.shape[0]\n",
    "        eval_losses.append((eval_loss/len(test_data)).data.cpu().numpy())\n",
    "        eval_acces.append((eval_acc/len(test_data)).data.cpu().numpy())\n",
    "        train_loss_=(train_loss/len(train_data)).data.cpu().numpy()#训练集上损失；\n",
    "        train_acc_=(train_acc/len(train_data)).data.cpu().numpy()#训练集上准确率；\n",
    "        test_loss_=(eval_loss/len(test_data)).data.cpu().numpy()#测试集上损失；\n",
    "        test_acc_=(eval_acc/len(test_data)).data.cpu().numpy()#测试集上准确率\n",
    "        logger.info('Epoch:[{}]\\t train_loss={:.8f}\\t train_acc={:.8f}\\t test_loss={:.8f}\\t test_acc={:.8f}'.format(epoch , train_loss_,train_acc_,test_loss_, test_acc_))\n",
    "        if is_request_accuracy==0:\n",
    "            print(\"epoch:\",epoch,\"train_loss:\",train_loss_,\"train_acc:\",train_acc_,\"eval_loss:\",test_loss_,\"eval_acc:\",test_acc_)\n",
    "        else :\n",
    "            if (eval_acc/len(test_data)).data.cpu().numpy()>=0.99:\n",
    "                break;\n",
    "        if test_acc_-temp<-0.008:#准确率下降过多的时候早停；\n",
    "            break;\n",
    "        temp=test_acc_;\n",
    "        print(\"第%d个epoch的学习率：%f\" % (epoch, optimer.param_groups[0]['lr']))\n",
    "        scheduler.step()#改变下一轮训练中的学习率\n",
    "            \n",
    "    logger.info('finish training!')\n",
    "    #绘制训练过程的效果图像；\n",
    "    #设置标题:\n",
    "    plt.title(\"train_loss\")\n",
    "    plt.plot(np.arange(len(losses)),losses)\n",
    "    plt.show()\n",
    "    plt.title(\"train accuracy\")\n",
    "    plt.plot(np.arange(len(losses)),acces)\n",
    "    plt.show()\n",
    "    plt.title(\"eval loss\")\n",
    "    plt.plot(np.arange(len(losses)),eval_losses)\n",
    "    plt.show()\n",
    "    plt.title(\"eval accuracy\")\n",
    "    plt.plot(np.arange(len(losses)),eval_acces)\n",
    "    plt.show()"
   ]
  },
  {
   "cell_type": "code",
   "execution_count": 17,
   "id": "1dd26297-cbc0-4353-9fd8-00d84e6aedc6",
   "metadata": {},
   "outputs": [
    {
     "name": "stderr",
     "output_type": "stream",
     "text": [
      "[2022-12-10 15:03:26,709][3696033394.py][line:7][INFO] start training!\n",
      "[2022-12-10 15:03:26,709][3696033394.py][line:7][INFO] start training!\n",
      "[2022-12-10 15:03:26,709][3696033394.py][line:7][INFO] start training!\n",
      "[2022-12-10 15:03:26,709][3696033394.py][line:7][INFO] start training!\n",
      "[2022-12-10 15:24:45,885][3696033394.py][line:46][INFO] Epoch:[0]\t train_loss=0.17765515\t train_acc=0.95936900\t test_loss=0.20636289\t test_acc=0.94882810\n",
      "[2022-12-10 15:24:45,885][3696033394.py][line:46][INFO] Epoch:[0]\t train_loss=0.17765515\t train_acc=0.95936900\t test_loss=0.20636289\t test_acc=0.94882810\n",
      "[2022-12-10 15:24:45,885][3696033394.py][line:46][INFO] Epoch:[0]\t train_loss=0.17765515\t train_acc=0.95936900\t test_loss=0.20636289\t test_acc=0.94882810\n",
      "[2022-12-10 15:24:45,885][3696033394.py][line:46][INFO] Epoch:[0]\t train_loss=0.17765515\t train_acc=0.95936900\t test_loss=0.20636289\t test_acc=0.94882810\n"
     ]
    },
    {
     "name": "stdout",
     "output_type": "stream",
     "text": [
      "epoch: 0 train_loss: 0.17765515 train_acc: 0.959369 eval_loss: 0.20636289 eval_acc: 0.9488281\n",
      "第0个epoch的学习率：0.000013\n"
     ]
    },
    {
     "name": "stderr",
     "output_type": "stream",
     "text": [
      "[2022-12-10 15:46:14,475][3696033394.py][line:46][INFO] Epoch:[1]\t train_loss=0.16652387\t train_acc=0.96267098\t test_loss=0.20098771\t test_acc=0.95092040\n",
      "[2022-12-10 15:46:14,475][3696033394.py][line:46][INFO] Epoch:[1]\t train_loss=0.16652387\t train_acc=0.96267098\t test_loss=0.20098771\t test_acc=0.95092040\n",
      "[2022-12-10 15:46:14,475][3696033394.py][line:46][INFO] Epoch:[1]\t train_loss=0.16652387\t train_acc=0.96267098\t test_loss=0.20098771\t test_acc=0.95092040\n",
      "[2022-12-10 15:46:14,475][3696033394.py][line:46][INFO] Epoch:[1]\t train_loss=0.16652387\t train_acc=0.96267098\t test_loss=0.20098771\t test_acc=0.95092040\n"
     ]
    },
    {
     "name": "stdout",
     "output_type": "stream",
     "text": [
      "epoch: 1 train_loss: 0.16652387 train_acc: 0.962671 eval_loss: 0.20098771 eval_acc: 0.9509204\n",
      "第1个epoch的学习率：0.000011\n"
     ]
    },
    {
     "name": "stderr",
     "output_type": "stream",
     "text": [
      "[2022-12-10 16:07:46,018][3696033394.py][line:46][INFO] Epoch:[2]\t train_loss=0.15828106\t train_acc=0.96528018\t test_loss=0.20022637\t test_acc=0.95123589\n",
      "[2022-12-10 16:07:46,018][3696033394.py][line:46][INFO] Epoch:[2]\t train_loss=0.15828106\t train_acc=0.96528018\t test_loss=0.20022637\t test_acc=0.95123589\n",
      "[2022-12-10 16:07:46,018][3696033394.py][line:46][INFO] Epoch:[2]\t train_loss=0.15828106\t train_acc=0.96528018\t test_loss=0.20022637\t test_acc=0.95123589\n",
      "[2022-12-10 16:07:46,018][3696033394.py][line:46][INFO] Epoch:[2]\t train_loss=0.15828106\t train_acc=0.96528018\t test_loss=0.20022637\t test_acc=0.95123589\n"
     ]
    },
    {
     "name": "stdout",
     "output_type": "stream",
     "text": [
      "epoch: 2 train_loss: 0.15828106 train_acc: 0.9652802 eval_loss: 0.20022637 eval_acc: 0.9512359\n",
      "第2个epoch的学习率：0.000010\n"
     ]
    },
    {
     "name": "stderr",
     "output_type": "stream",
     "text": [
      "[2022-12-10 16:29:20,159][3696033394.py][line:46][INFO] Epoch:[3]\t train_loss=0.15110852\t train_acc=0.96708351\t test_loss=0.19787920\t test_acc=0.95187622\n",
      "[2022-12-10 16:29:20,159][3696033394.py][line:46][INFO] Epoch:[3]\t train_loss=0.15110852\t train_acc=0.96708351\t test_loss=0.19787920\t test_acc=0.95187622\n",
      "[2022-12-10 16:29:20,159][3696033394.py][line:46][INFO] Epoch:[3]\t train_loss=0.15110852\t train_acc=0.96708351\t test_loss=0.19787920\t test_acc=0.95187622\n",
      "[2022-12-10 16:29:20,159][3696033394.py][line:46][INFO] Epoch:[3]\t train_loss=0.15110852\t train_acc=0.96708351\t test_loss=0.19787920\t test_acc=0.95187622\n"
     ]
    },
    {
     "name": "stdout",
     "output_type": "stream",
     "text": [
      "epoch: 3 train_loss: 0.15110852 train_acc: 0.9670835 eval_loss: 0.1978792 eval_acc: 0.9518762\n",
      "第3个epoch的学习率：0.000009\n"
     ]
    },
    {
     "name": "stderr",
     "output_type": "stream",
     "text": [
      "[2022-12-10 16:50:51,254][3696033394.py][line:46][INFO] Epoch:[4]\t train_loss=0.14407808\t train_acc=0.96878564\t test_loss=0.19719678\t test_acc=0.95205599\n",
      "[2022-12-10 16:50:51,254][3696033394.py][line:46][INFO] Epoch:[4]\t train_loss=0.14407808\t train_acc=0.96878564\t test_loss=0.19719678\t test_acc=0.95205599\n",
      "[2022-12-10 16:50:51,254][3696033394.py][line:46][INFO] Epoch:[4]\t train_loss=0.14407808\t train_acc=0.96878564\t test_loss=0.19719678\t test_acc=0.95205599\n",
      "[2022-12-10 16:50:51,254][3696033394.py][line:46][INFO] Epoch:[4]\t train_loss=0.14407808\t train_acc=0.96878564\t test_loss=0.19719678\t test_acc=0.95205599\n"
     ]
    },
    {
     "name": "stdout",
     "output_type": "stream",
     "text": [
      "epoch: 4 train_loss: 0.14407808 train_acc: 0.96878564 eval_loss: 0.19719678 eval_acc: 0.952056\n",
      "第4个epoch的学习率：0.000008\n"
     ]
    },
    {
     "name": "stderr",
     "output_type": "stream",
     "text": [
      "[2022-12-10 17:12:32,480][3696033394.py][line:46][INFO] Epoch:[5]\t train_loss=0.13810758\t train_acc=0.97080976\t test_loss=0.19708528\t test_acc=0.95218879\n",
      "[2022-12-10 17:12:32,480][3696033394.py][line:46][INFO] Epoch:[5]\t train_loss=0.13810758\t train_acc=0.97080976\t test_loss=0.19708528\t test_acc=0.95218879\n",
      "[2022-12-10 17:12:32,480][3696033394.py][line:46][INFO] Epoch:[5]\t train_loss=0.13810758\t train_acc=0.97080976\t test_loss=0.19708528\t test_acc=0.95218879\n",
      "[2022-12-10 17:12:32,480][3696033394.py][line:46][INFO] Epoch:[5]\t train_loss=0.13810758\t train_acc=0.97080976\t test_loss=0.19708528\t test_acc=0.95218879\n",
      "[2022-12-10 17:12:32,483][3696033394.py][line:59][INFO] finish training!\n",
      "[2022-12-10 17:12:32,483][3696033394.py][line:59][INFO] finish training!\n",
      "[2022-12-10 17:12:32,483][3696033394.py][line:59][INFO] finish training!\n",
      "[2022-12-10 17:12:32,483][3696033394.py][line:59][INFO] finish training!\n"
     ]
    },
    {
     "name": "stdout",
     "output_type": "stream",
     "text": [
      "epoch: 5 train_loss: 0.13810758 train_acc: 0.97080976 eval_loss: 0.19708528 eval_acc: 0.9521888\n",
      "第5个epoch的学习率：0.000008\n"
     ]
    },
    {
     "data": {
      "image/png": "[encoded data removed]",
      "text/plain": [
       "<Figure size 432x288 with 1 Axes>"
      ]
     },
     "metadata": {
      "needs_background": "light"
     },
     "output_type": "display_data"
    },
    {
     "data": {
      "image/png": "[encoded data removed]",
      "text/plain": [
       "<Figure size 432x288 with 1 Axes>"
      ]
     },
     "metadata": {
      "needs_background": "light"
     },
     "output_type": "display_data"
    },
    {
     "data": {
      "image/png": "[encoded data removed]",
      "text/plain": [
       "<Figure size 432x288 with 1 Axes>"
      ]
     },
     "metadata": {
      "needs_background": "light"
     },
     "output_type": "display_data"
    },
    {
     "data": {
      "image/png": "[encoded data removed]",
      "text/plain": [
       "<Figure size 432x288 with 1 Axes>"
      ]
     },
     "metadata": {
      "needs_background": "light"
     },
     "output_type": "display_data"
    }
   ],
   "source": [
    "train(net,train_data,test_data,6,optimer,scheduler,loss_function,0)#由于条件和时间有限，只训练了11轮；\n",
    "#前面训练了五轮，但是中间中断了内核，修改了train函数，之后右训练了6轮；完整训练过程见日志；"
   ]
  },
  {
   "cell_type": "code",
   "execution_count": 18,
   "id": "ff39b9f4-28b5-4f39-930e-838341c216ed",
   "metadata": {},
   "outputs": [],
   "source": [
    "torch.save(net,\"chinese_classification.pth\")#保存模型；"
   ]
  },
  {
   "cell_type": "code",
   "execution_count": null,
   "id": "b93a1576-06c1-4c9d-bf42-6a301016a4cf",
   "metadata": {},
   "outputs": [],
   "source": []
  }
 ],
 "metadata": {
  "kernelspec": {
   "display_name": "Python 3.8.12 ('pytorch-py38')",
   "language": "python",
   "name": "python3"
  },
  "language_info": {
   "codemirror_mode": {
    "name": "ipython",
    "version": 3
   },
   "file_extension": ".py",
   "mimetype": "text/x-python",
   "name": "python",
   "nbconvert_exporter": "python",
   "pygments_lexer": "ipython3",
   "version": "3.8.12"
  },
  "vscode": {
   "interpreter": {
    "hash": "2b42aa95a69cc376350729958c812c141f463358c0b2744efb5f673ce4155c75"
   }
  }
 },
 "nbformat": 4,
 "nbformat_minor": 5
}
